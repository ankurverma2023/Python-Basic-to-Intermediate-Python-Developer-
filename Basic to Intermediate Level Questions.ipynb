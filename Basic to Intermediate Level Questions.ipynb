{
 "cells": [
  {
   "cell_type": "markdown",
   "id": "de037690",
   "metadata": {},
   "source": [
    "# Python Basic to Intermediate Level Questions with Examples"
   ]
  },
  {
   "cell_type": "markdown",
   "id": "ef7a3ce5",
   "metadata": {},
   "source": [
    "# 1. What is Python\n",
    "\n",
    "\n",
    "# Python is an interpreted, high-level, general-purpose programming language known for its simplicity and readability."
   ]
  },
  {
   "cell_type": "code",
   "execution_count": 30,
   "id": "2ce7d78d",
   "metadata": {},
   "outputs": [
    {
     "name": "stdout",
     "output_type": "stream",
     "text": [
      "Hello, python!\n"
     ]
    }
   ],
   "source": [
    "print(\"Hello, python!\")"
   ]
  },
  {
   "cell_type": "markdown",
   "id": "5960dbcd",
   "metadata": {},
   "source": [
    "# 2. How do you print output in Python?\n",
    "\n",
    "\n",
    "# The print() function is used to display output."
   ]
  },
  {
   "cell_type": "code",
   "execution_count": 2,
   "id": "c34103ea",
   "metadata": {},
   "outputs": [
    {
     "name": "stdout",
     "output_type": "stream",
     "text": [
      "Hello, world!\n"
     ]
    }
   ],
   "source": [
    "print(\"Hello, world!\")"
   ]
  },
  {
   "cell_type": "markdown",
   "id": "0651c500",
   "metadata": {},
   "source": [
    "# 3. How do you take user input in Python?\n",
    "\n",
    "\n",
    "# The input() function is used to take user input."
   ]
  },
  {
   "cell_type": "code",
   "execution_count": 31,
   "id": "50c9e3ca",
   "metadata": {},
   "outputs": [
    {
     "name": "stdout",
     "output_type": "stream",
     "text": [
      "Enter your name: Ashish\n",
      "Hello, Ashish\n"
     ]
    }
   ],
   "source": [
    "name = input(\"Enter your name: \")\n",
    "print(\"Hello, \" + name)"
   ]
  },
  {
   "cell_type": "markdown",
   "id": "0a676765",
   "metadata": {},
   "source": [
    "# 4. What are Python data types?\n",
    "\n",
    "\n",
    "# Data types specify the type of data stored in a variable."
   ]
  },
  {
   "cell_type": "code",
   "execution_count": 4,
   "id": "61b879b2",
   "metadata": {},
   "outputs": [
    {
     "name": "stdout",
     "output_type": "stream",
     "text": [
      "<class 'int'> <class 'float'> <class 'str'> <class 'bool'>\n"
     ]
    }
   ],
   "source": [
    "x = 10  # int\n",
    "y = 3.14  # float\n",
    "z = \"Hello\"  # str\n",
    "a = True    # bool\n",
    "\n",
    "print(type(x), type(y), type(z), type(a))"
   ]
  },
  {
   "cell_type": "markdown",
   "id": "dfee9f7c",
   "metadata": {},
   "source": [
    "# 5. What is the difference between = and == in Python?\n",
    "\n",
    "#  = is an assignment operator.\n",
    "#  == is  comparison operator."
   ]
  },
  {
   "cell_type": "code",
   "execution_count": 5,
   "id": "002b9da3",
   "metadata": {},
   "outputs": [
    {
     "name": "stdout",
     "output_type": "stream",
     "text": [
      "True\n"
     ]
    }
   ],
   "source": [
    "a = 5   # Assigment\n",
    "print(a==5)   #  comparison (true)"
   ]
  },
  {
   "cell_type": "markdown",
   "id": "b85f2a6f",
   "metadata": {},
   "source": [
    "# 6. What are conditional statements in Python?\n",
    "\n",
    "# Conditional statements control the flow of execution based on conditions."
   ]
  },
  {
   "cell_type": "code",
   "execution_count": 6,
   "id": "fa5655a5",
   "metadata": {},
   "outputs": [
    {
     "name": "stdout",
     "output_type": "stream",
     "text": [
      "You are an adult\n"
     ]
    }
   ],
   "source": [
    "age = 18\n",
    "if age >= 18:\n",
    "    print(\"You are an adult\")\n",
    "else:\n",
    "    print(\"You are a minor\")"
   ]
  },
  {
   "cell_type": "markdown",
   "id": "dc812859",
   "metadata": {},
   "source": [
    "# 7. What are loops in Python?\n",
    "\n",
    "# Loops are used to execute a block of code multiple times."
   ]
  },
  {
   "cell_type": "code",
   "execution_count": 7,
   "id": "f263adb1",
   "metadata": {},
   "outputs": [
    {
     "name": "stdout",
     "output_type": "stream",
     "text": [
      "0\n",
      "1\n",
      "2\n",
      "3\n",
      "4\n"
     ]
    }
   ],
   "source": [
    "# For Loop\n",
    "\n",
    "for i in range (5):\n",
    "    print(i)"
   ]
  },
  {
   "cell_type": "code",
   "execution_count": 8,
   "id": "4ea6ad9f",
   "metadata": {},
   "outputs": [
    {
     "name": "stdout",
     "output_type": "stream",
     "text": [
      "0\n",
      "1\n",
      "2\n",
      "3\n",
      "4\n"
     ]
    }
   ],
   "source": [
    "# while Loop\n",
    "\n",
    "x = 0\n",
    "while x < 5:\n",
    "    print(x)\n",
    "    x +=1"
   ]
  },
  {
   "cell_type": "markdown",
   "id": "44b08f90",
   "metadata": {},
   "source": [
    "# 8. What are functions in Python?\n",
    "\n",
    "# Functions are reusable blocks of code."
   ]
  },
  {
   "cell_type": "code",
   "execution_count": 9,
   "id": "d652155f",
   "metadata": {},
   "outputs": [
    {
     "name": "stdout",
     "output_type": "stream",
     "text": [
      "Hello, Ashish\n"
     ]
    }
   ],
   "source": [
    "def greet(name):\n",
    "    return \"Hello, \"+ name\n",
    "\n",
    "print(greet(\"Ashish\"))"
   ]
  },
  {
   "cell_type": "markdown",
   "id": "1fa7ed19",
   "metadata": {},
   "source": [
    "# Intermediate Level Question"
   ]
  },
  {
   "cell_type": "markdown",
   "id": "8914ad35",
   "metadata": {},
   "source": [
    "# 9. What is a Python list, and how do you use it?\n",
    "\n",
    "# A list is an ordered, mutable collection of elements."
   ]
  },
  {
   "cell_type": "code",
   "execution_count": 12,
   "id": "1cae00c9",
   "metadata": {},
   "outputs": [
    {
     "name": "stdout",
     "output_type": "stream",
     "text": [
      "apple\n"
     ]
    }
   ],
   "source": [
    "fruits = [\"apple\", \"banana\", \"Grapes\"]\n",
    "print(fruits[0])"
   ]
  },
  {
   "cell_type": "markdown",
   "id": "ae77a5bb",
   "metadata": {},
   "source": [
    "# 10. How do you add/remove elements in a list?\n",
    "\n",
    "# .append() adds an element.\n",
    "# .remove() removes an element."
   ]
  },
  {
   "cell_type": "code",
   "execution_count": 13,
   "id": "ff57ae1c",
   "metadata": {},
   "outputs": [
    {
     "name": "stdout",
     "output_type": "stream",
     "text": [
      "['apple', 'Grapes', 'Orange']\n"
     ]
    }
   ],
   "source": [
    "fruits.append(\"Orange\")    # Add element\n",
    "fruits.remove(\"banana\")    # Remove element\n",
    "\n",
    "print(fruits)"
   ]
  },
  {
   "cell_type": "markdown",
   "id": "898103b7",
   "metadata": {},
   "source": [
    "# 11. How do you reverse a string in Python?\n",
    "\n",
    "# String slicing can reverse a string."
   ]
  },
  {
   "cell_type": "code",
   "execution_count": 14,
   "id": "3d3e6acf",
   "metadata": {},
   "outputs": [
    {
     "name": "stdout",
     "output_type": "stream",
     "text": [
      "olleh\n"
     ]
    }
   ],
   "source": [
    "s = \"hello\"\n",
    "print(s[::-1])   "
   ]
  },
  {
   "cell_type": "markdown",
   "id": "bb6c77c0",
   "metadata": {},
   "source": [
    "# 12. What is the difference between a list and a tuple?\n",
    "\n",
    "# A list is mutable (can be changed).\n",
    "# A tuple is immutable (cannot be changed)."
   ]
  },
  {
   "cell_type": "code",
   "execution_count": 16,
   "id": "d23a80c4",
   "metadata": {},
   "outputs": [],
   "source": [
    "my_list = [1,2,3]   # mutable\n",
    "my_tuple = [1,2,3]  # Immutable"
   ]
  },
  {
   "cell_type": "markdown",
   "id": "a07d3b85",
   "metadata": {},
   "source": [
    "# 13. What are dictionary operations in Python?\n",
    "\n",
    "# A dictionary stores key-value pairs."
   ]
  },
  {
   "cell_type": "code",
   "execution_count": 18,
   "id": "72f69aee",
   "metadata": {},
   "outputs": [
    {
     "name": "stdout",
     "output_type": "stream",
     "text": [
      "Alice\n"
     ]
    }
   ],
   "source": [
    "person = {\"name\": \"Alice\", \"age\": 25}\n",
    "print(person[\"name\"])\n",
    "person[\"city\"] = \"New York\"    # # Add new key-value pair"
   ]
  },
  {
   "cell_type": "markdown",
   "id": "9c694e94",
   "metadata": {},
   "source": [
    "# 14. How do you use list comprehension?\n",
    "\n",
    "# List comprehension is a concise way to create lists."
   ]
  },
  {
   "cell_type": "code",
   "execution_count": 19,
   "id": "a696f268",
   "metadata": {},
   "outputs": [
    {
     "name": "stdout",
     "output_type": "stream",
     "text": [
      "[0, 1, 4, 9, 16]\n"
     ]
    }
   ],
   "source": [
    "squares = [x**2 for x in range(5)]\n",
    "print (squares)"
   ]
  },
  {
   "cell_type": "markdown",
   "id": "f3bb2b00",
   "metadata": {},
   "source": [
    "# 15. What is a lambda function?\n",
    "\n",
    "# A lambda function is an anonymous function."
   ]
  },
  {
   "cell_type": "code",
   "execution_count": 20,
   "id": "e3d13414",
   "metadata": {},
   "outputs": [
    {
     "name": "stdout",
     "output_type": "stream",
     "text": [
      "5\n"
     ]
    }
   ],
   "source": [
    "add = lambda x, y: x + y\n",
    "print(add(2,3))"
   ]
  },
  {
   "cell_type": "markdown",
   "id": "ed7642d7",
   "metadata": {},
   "source": [
    "# 16. What is the difference between *args and **kwargs?\n",
    "\n",
    "# *args allows passing multiple positional arguments.\n",
    "# **kwargs allows passing multiple keyword arguments."
   ]
  },
  {
   "cell_type": "code",
   "execution_count": 24,
   "id": "5f39c89c",
   "metadata": {},
   "outputs": [
    {
     "name": "stdout",
     "output_type": "stream",
     "text": [
      "(1, 2, 3)\n",
      "{'name': 'Ankur', 'age': 25}\n"
     ]
    }
   ],
   "source": [
    "def func(*args, **Kwargs):\n",
    "    print(args)    # Tuple of positional arguments\n",
    "    print(Kwargs)  # Dictionary of keyword arguments\n",
    "    \n",
    "func(1,2,3, name = \"Ankur\", age=25)"
   ]
  },
  {
   "cell_type": "markdown",
   "id": "92418e22",
   "metadata": {},
   "source": [
    "# 17. What is exception handling in Python?\n",
    "\n",
    "# Exception handling allows handling runtime errors."
   ]
  },
  {
   "cell_type": "code",
   "execution_count": 25,
   "id": "23f7b07b",
   "metadata": {},
   "outputs": [
    {
     "name": "stdout",
     "output_type": "stream",
     "text": [
      "Cannot divide by zero!\n"
     ]
    }
   ],
   "source": [
    "try:\n",
    "    x = 10/0\n",
    "except ZeroDivisionError:\n",
    "    print(\"Cannot divide by zero!\")"
   ]
  },
  {
   "cell_type": "markdown",
   "id": "fed64b27",
   "metadata": {},
   "source": [
    "# 18. What are classes and objects in Python?\n",
    "\n",
    "# Classes define objects' structure and behavior."
   ]
  },
  {
   "cell_type": "code",
   "execution_count": 28,
   "id": "20cb8aca",
   "metadata": {},
   "outputs": [
    {
     "name": "stdout",
     "output_type": "stream",
     "text": [
      "Hello, my name is Ankur.\n"
     ]
    }
   ],
   "source": [
    "class Person:\n",
    "    def __init__(self, name, age):  # Corrected __init__ method\n",
    "        self.name = name\n",
    "        self.age = age\n",
    "        \n",
    "    def greet(self):\n",
    "        return f\"Hello, my name is {self.name}.\"\n",
    "    \n",
    "p = Person(\"Ankur\", 25)\n",
    "print(p.greet())\n"
   ]
  },
  {
   "cell_type": "markdown",
   "id": "f8f3b28e",
   "metadata": {},
   "source": [
    "# 19. How do you read and write files in Python?\n",
    "\n",
    "# open() is used to read/write files.\n",
    "\n"
   ]
  },
  {
   "cell_type": "code",
   "execution_count": 29,
   "id": "a3c59d89",
   "metadata": {},
   "outputs": [
    {
     "name": "stdout",
     "output_type": "stream",
     "text": [
      "Hello, World!\n"
     ]
    }
   ],
   "source": [
    "# Writing to a file\n",
    "with open(\"file.txt\", \"w\") as f:\n",
    "    f.write(\"Hello, World!\")\n",
    "\n",
    "# Reading from a file\n",
    "with open(\"file.txt\", \"r\") as f:\n",
    "    print(f.read())\n"
   ]
  },
  {
   "cell_type": "code",
   "execution_count": null,
   "id": "0d55138c",
   "metadata": {},
   "outputs": [],
   "source": []
  }
 ],
 "metadata": {
  "kernelspec": {
   "display_name": "Python 3 (ipykernel)",
   "language": "python",
   "name": "python3"
  },
  "language_info": {
   "codemirror_mode": {
    "name": "ipython",
    "version": 3
   },
   "file_extension": ".py",
   "mimetype": "text/x-python",
   "name": "python",
   "nbconvert_exporter": "python",
   "pygments_lexer": "ipython3",
   "version": "3.9.13"
  }
 },
 "nbformat": 4,
 "nbformat_minor": 5
}
